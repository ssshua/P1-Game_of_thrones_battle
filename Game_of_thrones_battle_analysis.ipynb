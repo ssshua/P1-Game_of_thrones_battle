{
 "cells": [
  {
   "cell_type": "markdown",
   "metadata": {},
   "source": [
    "# 五王之战分析 - 冰与火之歌"
   ]
  },
  {
   "cell_type": "markdown",
   "metadata": {},
   "source": [
    "## 简介\n",
    "\n",
    "五王之战（War of the Five Kings）是著名严肃奇幻小说《冰与火之歌》中的著名内战。这是一场规模空前、波及七大王国的内乱。顾名思义，前后共有五人在战争中称王：乔佛里、史坦尼斯、蓝礼均声称自己是铁王座的合法继承人。除此之外，罗柏·史塔克被北境众封臣推选为北境之王，巴隆·葛雷乔伊亦再度掀起独立大旗，欲摆脱铁王座的统治，自称为铁群岛之王。\n",
    "\n"
   ]
  },
  {
   "cell_type": "markdown",
   "metadata": {},
   "source": [
    "本数据集(battles.csv)包含了五王之战期间的战争，它是所有战斗的大集合。该数据是Kaggle中[Game of Thrones](https://www.kaggle.com/mylesoneill/game-of-thrones)的一部分。\n",
    "\n",
    "数据中的变量含义解释：\n",
    "```\n",
    "name: 战争的名称，字符变量。\n",
    "year: 战争发生的年份，数值变量。\n",
    "battle_number: 本数据中的unique id，对应每一场独立的战役，数值变量。\n",
    "attacker_king: 攻击方的国王，\"/\"表示了国王的更换。例如：\"Joffrey/Tommen Baratheon\"意味着Tomen Baratheon继承了Joffrey的王位，分类变量。\n",
    "defender_king: 防守方的国王，分类变量。\n",
    "attacker_1: 攻击方将领，字符变量。\n",
    "attacker_2: 攻击方将领，字符变量。\n",
    "attacker_3: 攻击方将领，字符变量。\n",
    "attacker_4: 攻击方将领，字符变量。\n",
    "defender_1: 防守方将领，字符变量。\n",
    "defender_2: 防守方将领，字符变量。\n",
    "defender_3: 防守方将领，字符变量。\n",
    "defender_4: 防守方将领，字符变量。\n",
    "attacker_outcome: 从攻击方角度来看的战争结果，分别有：win, loss, draw，分类变量。\n",
    "battle_type: 战争的类别。pitched_battle: 双方军队在一个地点相遇并战斗，这也是最基本的战争类别；ambush: 以隐身或诡计为主要攻击手段的战争；siege: 阵地战；razing: 对未设防位置的攻击。分类变量。\n",
    "major_death: 是否有重要人物的死亡，二进制变量。\n",
    "major_capture: 是否有重要人物的被捕，二进制变量。\n",
    "attacker_size: 攻击方力量的大小，并未对骑兵、步兵等士兵种类有所区分，数值变量。\n",
    "defender_size: 防守方力量的大小，并未对骑兵、步兵等士兵种类有所区分，数值变量。\n",
    "attacker_commander: 攻击方的主要指挥官。指挥官的名字中并没有包含头衔，不同的指挥官名字用逗号隔开，字符变量。\n",
    "defender_commander: 防守方的主要指挥官。指挥官的名字中并没有包含头衔，不同的指挥官名字用逗号隔开，字符变量。\n",
    "summer: 战争是否发生于夏天，二进制变量。\n",
    "location: 战争发生的地点，字符变量。\n",
    "region: 战争发生的地域，包括：Beyond the Wall, The North, The Iron Islands, The Riverlands, The Vale of Arryn, The Westerlands, The Crownlands, The Reach, The Stormlands, Dorne，分类变量。\n",
    "note: 注释，字符变量。\n",
    "\n",
    "```"
   ]
  },
  {
   "cell_type": "markdown",
   "metadata": {},
   "source": [
    "## 项目完成指南\n",
    "\n",
    "\n",
    "\n",
    "本项目中的数据分析流程已经给出，但代码将完全由你自己进行书写，如果你无法完成本项目，说明你目前的能力并不足以完成 数据分析(进阶)纳米学位，建议先进行 数据分析（入门）纳米学位的学习，掌握进阶课程的先修知识。\n",
    "\n",
    "对于数据分析过程的记录也是数据分析报告的一个重要部分，你可以自己在需要的位置插入Markdown cell，记录你在数据分析中的关键步骤和推理过程。比如：数据有什么样的特点，统计数据的含义是什么，你从可视化中可以得出什么结论，下一步分析是什么，为什么执行这种分析。如果你无法做到这一点，你也无法通过本项目。\n",
    "\n",
    "\n",
    "> **小贴士**: 像这样的引用部分旨在为学员提供实用指导，帮助学员了解并使用 Jupyter notebook"
   ]
  },
  {
   "cell_type": "markdown",
   "metadata": {},
   "source": [
    "## 提出问题\n",
    "\n",
    "在此项目中，你将以一名数据分析师的身份执行数据的探索性分析。你将了解数据分析过程的基本流程。在你分析数据之前，请先思考几个你需要理解的关于这些战斗的问题，例如，哪一个区域发生了最多的战争？哪一个国王获得了最多的胜利？战争的胜利与否受那些关键因素的影响？\n",
    "\n",
    "**问题**：请写下你感兴趣的问题，请确保这些问题能够由现有的数据进行回答。\n",
    "（为了确保学习的效果，请确保你的数据分析报告中能够包含2幅可视化和1个相关性分析。）\n",
    "\n",
    "**答案**： 国家进攻和防守的次数，以及最后的胜利场次谁最多。\n",
    "\n",
    "\n",
    "在提出了问题之后，我们将开始导入数据，并对数据进行探索性分析，来回答上面提出的问题。\n",
    "\n",
    "> **小贴士**: 双击上框，文本就会发生变化，所有格式都会被清除，以便你编辑该文本块。该文本块是用 [Markdown](http://daringfireball.net/projects/markdown/syntax)编写的，该语言使用纯文本语法，能用页眉、链接、斜体等来规范文本格式。在纳米学位课程中，你也会用到 Markdown。编辑后，可使用 **Shift** + **Enter** 或 **Shift** + **Return** 运行上该框，使其呈现出编辑好的文本格式。"
   ]
  },
  {
   "cell_type": "markdown",
   "metadata": {},
   "source": [
    "## 数据评估和清理"
   ]
  },
  {
   "cell_type": "markdown",
   "metadata": {},
   "source": [
    "> **小贴士**: 运行代码框的方法与编辑上方的 Markdown 框的格式类似，你只需点击代码框，按下键盘快捷键 **Shift** + **Enter** 或 **Shift** + **Return** ，或者你也可先选择代码框，然后点击工具栏的 **运行** 按钮来运行代码。运行代码框时，相应单元左侧的信息会出现星号，即 `In [*]:`，若代码执行完毕，星号则会变为某个数字，如 `In [1]`。如果代码运行后有输出结果，输出将会以 `Out [1]:` 的形式出现，其中的数字将与 \"In\" 中的数字相对应。"
   ]
  },
  {
   "cell_type": "code",
   "execution_count": 1,
   "metadata": {},
   "outputs": [],
   "source": [
    "# TO DO: load pacakges\n",
    "import numpy as np\n",
    "import pandas as pd\n",
    "import matplotlib.pyplot as plt\n",
    "% matplotlib inline\n",
    "import seaborn as sns\n",
    "sns.set_style('darkgrid')"
   ]
  },
  {
   "cell_type": "code",
   "execution_count": 2,
   "metadata": {},
   "outputs": [],
   "source": [
    "# TO DO: load the dataset\n",
    "df = pd.read_csv('battles.csv')"
   ]
  },
  {
   "cell_type": "code",
   "execution_count": 3,
   "metadata": {},
   "outputs": [
    {
     "data": {
      "text/html": [
       "<div>\n",
       "<style scoped>\n",
       "    .dataframe tbody tr th:only-of-type {\n",
       "        vertical-align: middle;\n",
       "    }\n",
       "\n",
       "    .dataframe tbody tr th {\n",
       "        vertical-align: top;\n",
       "    }\n",
       "\n",
       "    .dataframe thead th {\n",
       "        text-align: right;\n",
       "    }\n",
       "</style>\n",
       "<table border=\"1\" class=\"dataframe\">\n",
       "  <thead>\n",
       "    <tr style=\"text-align: right;\">\n",
       "      <th></th>\n",
       "      <th>name</th>\n",
       "      <th>year</th>\n",
       "      <th>battle_number</th>\n",
       "      <th>attacker_king</th>\n",
       "      <th>defender_king</th>\n",
       "      <th>attacker_1</th>\n",
       "      <th>attacker_2</th>\n",
       "      <th>attacker_3</th>\n",
       "      <th>attacker_4</th>\n",
       "      <th>defender_1</th>\n",
       "      <th>...</th>\n",
       "      <th>major_death</th>\n",
       "      <th>major_capture</th>\n",
       "      <th>attacker_size</th>\n",
       "      <th>defender_size</th>\n",
       "      <th>attacker_commander</th>\n",
       "      <th>defender_commander</th>\n",
       "      <th>summer</th>\n",
       "      <th>location</th>\n",
       "      <th>region</th>\n",
       "      <th>note</th>\n",
       "    </tr>\n",
       "  </thead>\n",
       "  <tbody>\n",
       "    <tr>\n",
       "      <th>0</th>\n",
       "      <td>Battle of the Golden Tooth</td>\n",
       "      <td>298</td>\n",
       "      <td>1</td>\n",
       "      <td>Joffrey/Tommen Baratheon</td>\n",
       "      <td>Robb Stark</td>\n",
       "      <td>Lannister</td>\n",
       "      <td>NaN</td>\n",
       "      <td>NaN</td>\n",
       "      <td>NaN</td>\n",
       "      <td>Tully</td>\n",
       "      <td>...</td>\n",
       "      <td>1.0</td>\n",
       "      <td>0.0</td>\n",
       "      <td>15000.0</td>\n",
       "      <td>4000.0</td>\n",
       "      <td>Jaime Lannister</td>\n",
       "      <td>Clement Piper, Vance</td>\n",
       "      <td>1.0</td>\n",
       "      <td>Golden Tooth</td>\n",
       "      <td>The Westerlands</td>\n",
       "      <td>NaN</td>\n",
       "    </tr>\n",
       "    <tr>\n",
       "      <th>1</th>\n",
       "      <td>Battle at the Mummer's Ford</td>\n",
       "      <td>298</td>\n",
       "      <td>2</td>\n",
       "      <td>Joffrey/Tommen Baratheon</td>\n",
       "      <td>Robb Stark</td>\n",
       "      <td>Lannister</td>\n",
       "      <td>NaN</td>\n",
       "      <td>NaN</td>\n",
       "      <td>NaN</td>\n",
       "      <td>Baratheon</td>\n",
       "      <td>...</td>\n",
       "      <td>1.0</td>\n",
       "      <td>0.0</td>\n",
       "      <td>NaN</td>\n",
       "      <td>120.0</td>\n",
       "      <td>Gregor Clegane</td>\n",
       "      <td>Beric Dondarrion</td>\n",
       "      <td>1.0</td>\n",
       "      <td>Mummer's Ford</td>\n",
       "      <td>The Riverlands</td>\n",
       "      <td>NaN</td>\n",
       "    </tr>\n",
       "    <tr>\n",
       "      <th>2</th>\n",
       "      <td>Battle of Riverrun</td>\n",
       "      <td>298</td>\n",
       "      <td>3</td>\n",
       "      <td>Joffrey/Tommen Baratheon</td>\n",
       "      <td>Robb Stark</td>\n",
       "      <td>Lannister</td>\n",
       "      <td>NaN</td>\n",
       "      <td>NaN</td>\n",
       "      <td>NaN</td>\n",
       "      <td>Tully</td>\n",
       "      <td>...</td>\n",
       "      <td>0.0</td>\n",
       "      <td>1.0</td>\n",
       "      <td>15000.0</td>\n",
       "      <td>10000.0</td>\n",
       "      <td>Jaime Lannister, Andros Brax</td>\n",
       "      <td>Edmure Tully, Tytos Blackwood</td>\n",
       "      <td>1.0</td>\n",
       "      <td>Riverrun</td>\n",
       "      <td>The Riverlands</td>\n",
       "      <td>NaN</td>\n",
       "    </tr>\n",
       "    <tr>\n",
       "      <th>3</th>\n",
       "      <td>Battle of the Green Fork</td>\n",
       "      <td>298</td>\n",
       "      <td>4</td>\n",
       "      <td>Robb Stark</td>\n",
       "      <td>Joffrey/Tommen Baratheon</td>\n",
       "      <td>Stark</td>\n",
       "      <td>NaN</td>\n",
       "      <td>NaN</td>\n",
       "      <td>NaN</td>\n",
       "      <td>Lannister</td>\n",
       "      <td>...</td>\n",
       "      <td>1.0</td>\n",
       "      <td>1.0</td>\n",
       "      <td>18000.0</td>\n",
       "      <td>20000.0</td>\n",
       "      <td>Roose Bolton, Wylis Manderly, Medger Cerwyn, H...</td>\n",
       "      <td>Tywin Lannister, Gregor Clegane, Kevan Lannist...</td>\n",
       "      <td>1.0</td>\n",
       "      <td>Green Fork</td>\n",
       "      <td>The Riverlands</td>\n",
       "      <td>NaN</td>\n",
       "    </tr>\n",
       "    <tr>\n",
       "      <th>4</th>\n",
       "      <td>Battle of the Whispering Wood</td>\n",
       "      <td>298</td>\n",
       "      <td>5</td>\n",
       "      <td>Robb Stark</td>\n",
       "      <td>Joffrey/Tommen Baratheon</td>\n",
       "      <td>Stark</td>\n",
       "      <td>Tully</td>\n",
       "      <td>NaN</td>\n",
       "      <td>NaN</td>\n",
       "      <td>Lannister</td>\n",
       "      <td>...</td>\n",
       "      <td>1.0</td>\n",
       "      <td>1.0</td>\n",
       "      <td>1875.0</td>\n",
       "      <td>6000.0</td>\n",
       "      <td>Robb Stark, Brynden Tully</td>\n",
       "      <td>Jaime Lannister</td>\n",
       "      <td>1.0</td>\n",
       "      <td>Whispering Wood</td>\n",
       "      <td>The Riverlands</td>\n",
       "      <td>NaN</td>\n",
       "    </tr>\n",
       "  </tbody>\n",
       "</table>\n",
       "<p>5 rows × 25 columns</p>\n",
       "</div>"
      ],
      "text/plain": [
       "                            name  year  battle_number  \\\n",
       "0     Battle of the Golden Tooth   298              1   \n",
       "1    Battle at the Mummer's Ford   298              2   \n",
       "2             Battle of Riverrun   298              3   \n",
       "3       Battle of the Green Fork   298              4   \n",
       "4  Battle of the Whispering Wood   298              5   \n",
       "\n",
       "              attacker_king             defender_king attacker_1 attacker_2  \\\n",
       "0  Joffrey/Tommen Baratheon                Robb Stark  Lannister        NaN   \n",
       "1  Joffrey/Tommen Baratheon                Robb Stark  Lannister        NaN   \n",
       "2  Joffrey/Tommen Baratheon                Robb Stark  Lannister        NaN   \n",
       "3                Robb Stark  Joffrey/Tommen Baratheon      Stark        NaN   \n",
       "4                Robb Stark  Joffrey/Tommen Baratheon      Stark      Tully   \n",
       "\n",
       "  attacker_3 attacker_4 defender_1 ...  major_death  major_capture  \\\n",
       "0        NaN        NaN      Tully ...          1.0            0.0   \n",
       "1        NaN        NaN  Baratheon ...          1.0            0.0   \n",
       "2        NaN        NaN      Tully ...          0.0            1.0   \n",
       "3        NaN        NaN  Lannister ...          1.0            1.0   \n",
       "4        NaN        NaN  Lannister ...          1.0            1.0   \n",
       "\n",
       "   attacker_size defender_size  \\\n",
       "0        15000.0        4000.0   \n",
       "1            NaN         120.0   \n",
       "2        15000.0       10000.0   \n",
       "3        18000.0       20000.0   \n",
       "4         1875.0        6000.0   \n",
       "\n",
       "                                  attacker_commander  \\\n",
       "0                                    Jaime Lannister   \n",
       "1                                     Gregor Clegane   \n",
       "2                       Jaime Lannister, Andros Brax   \n",
       "3  Roose Bolton, Wylis Manderly, Medger Cerwyn, H...   \n",
       "4                          Robb Stark, Brynden Tully   \n",
       "\n",
       "                                  defender_commander  summer         location  \\\n",
       "0                               Clement Piper, Vance     1.0     Golden Tooth   \n",
       "1                                   Beric Dondarrion     1.0    Mummer's Ford   \n",
       "2                      Edmure Tully, Tytos Blackwood     1.0         Riverrun   \n",
       "3  Tywin Lannister, Gregor Clegane, Kevan Lannist...     1.0       Green Fork   \n",
       "4                                    Jaime Lannister     1.0  Whispering Wood   \n",
       "\n",
       "            region note  \n",
       "0  The Westerlands  NaN  \n",
       "1   The Riverlands  NaN  \n",
       "2   The Riverlands  NaN  \n",
       "3   The Riverlands  NaN  \n",
       "4   The Riverlands  NaN  \n",
       "\n",
       "[5 rows x 25 columns]"
      ]
     },
     "execution_count": 3,
     "metadata": {},
     "output_type": "execute_result"
    }
   ],
   "source": [
    "# TO DO: check the dataset general info\n",
    "df.head()"
   ]
  },
  {
   "cell_type": "code",
   "execution_count": 4,
   "metadata": {},
   "outputs": [
    {
     "name": "stdout",
     "output_type": "stream",
     "text": [
      "<class 'pandas.core.frame.DataFrame'>\n",
      "RangeIndex: 38 entries, 0 to 37\n",
      "Data columns (total 25 columns):\n",
      "name                  38 non-null object\n",
      "year                  38 non-null int64\n",
      "battle_number         38 non-null int64\n",
      "attacker_king         36 non-null object\n",
      "defender_king         35 non-null object\n",
      "attacker_1            38 non-null object\n",
      "attacker_2            10 non-null object\n",
      "attacker_3            3 non-null object\n",
      "attacker_4            2 non-null object\n",
      "defender_1            37 non-null object\n",
      "defender_2            2 non-null object\n",
      "defender_3            0 non-null float64\n",
      "defender_4            0 non-null float64\n",
      "attacker_outcome      37 non-null object\n",
      "battle_type           37 non-null object\n",
      "major_death           37 non-null float64\n",
      "major_capture         37 non-null float64\n",
      "attacker_size         24 non-null float64\n",
      "defender_size         19 non-null float64\n",
      "attacker_commander    37 non-null object\n",
      "defender_commander    28 non-null object\n",
      "summer                37 non-null float64\n",
      "location              37 non-null object\n",
      "region                38 non-null object\n",
      "note                  5 non-null object\n",
      "dtypes: float64(7), int64(2), object(16)\n",
      "memory usage: 7.5+ KB\n"
     ]
    }
   ],
   "source": [
    "df.info()"
   ]
  },
  {
   "cell_type": "code",
   "execution_count": 5,
   "metadata": {},
   "outputs": [
    {
     "name": "stdout",
     "output_type": "stream",
     "text": [
      "0 name\n",
      "1 year\n",
      "2 battle_number\n",
      "3 attacker_king\n",
      "4 defender_king\n",
      "5 attacker_1\n",
      "6 attacker_2\n",
      "7 attacker_3\n",
      "8 attacker_4\n",
      "9 defender_1\n",
      "10 defender_2\n",
      "11 defender_3\n",
      "12 defender_4\n",
      "13 attacker_outcome\n",
      "14 battle_type\n",
      "15 major_death\n",
      "16 major_capture\n",
      "17 attacker_size\n",
      "18 defender_size\n",
      "19 attacker_commander\n",
      "20 defender_commander\n",
      "21 summer\n",
      "22 location\n",
      "23 region\n",
      "24 note\n"
     ]
    }
   ],
   "source": [
    "for  i, v in enumerate(df.columns):\n",
    "    print(i, v)"
   ]
  },
  {
   "cell_type": "markdown",
   "metadata": {},
   "source": [
    "### 处理缺失值,数据整合"
   ]
  },
  {
   "cell_type": "code",
   "execution_count": 6,
   "metadata": {},
   "outputs": [],
   "source": [
    "#选取国家以及战争结果，符合问题的需要\n",
    "df = df.iloc[:, np.r_[0:2, 5:11, 13]]"
   ]
  },
  {
   "cell_type": "code",
   "execution_count": 7,
   "metadata": {},
   "outputs": [
    {
     "name": "stdout",
     "output_type": "stream",
     "text": [
      "<class 'pandas.core.frame.DataFrame'>\n",
      "RangeIndex: 38 entries, 0 to 37\n",
      "Data columns (total 9 columns):\n",
      "name                38 non-null object\n",
      "year                38 non-null int64\n",
      "attacker_1          38 non-null object\n",
      "attacker_2          10 non-null object\n",
      "attacker_3          3 non-null object\n",
      "attacker_4          2 non-null object\n",
      "defender_1          37 non-null object\n",
      "defender_2          2 non-null object\n",
      "attacker_outcome    37 non-null object\n",
      "dtypes: int64(1), object(8)\n",
      "memory usage: 2.8+ KB\n"
     ]
    }
   ],
   "source": [
    "df.info()"
   ]
  },
  {
   "cell_type": "markdown",
   "metadata": {},
   "source": [
    "> 我的计划是将攻击方和进攻方合并成为一列，拆分成多行，然后在各自分为两个DataFrame。因为有缺失值，因此我先将缺失值填为一个指定值\"instead\"，最后拆分后，删去进攻列和防守列里面的\"instead\"。这样便于统计各个国家的防守和进攻参战数。"
   ]
  },
  {
   "cell_type": "code",
   "execution_count": 8,
   "metadata": {},
   "outputs": [],
   "source": [
    "#替代NAN\n",
    "deal = ['attacker_2', 'attacker_3', 'attacker_4', 'defender_1','defender_2']\n",
    "for i in deal:\n",
    "    df[i] = df[i].fillna(\"instead\")"
   ]
  },
  {
   "cell_type": "code",
   "execution_count": 9,
   "metadata": {},
   "outputs": [],
   "source": [
    "#组合成一列\n",
    "df['attacker'] = df['attacker_1'] + ',' + df['attacker_2'] + ',' + df['attacker_3'] + ',' + df['attacker_4']\n",
    "df['defender'] = df['defender_1'] + ',' + df['defender_2']"
   ]
  },
  {
   "cell_type": "code",
   "execution_count": 10,
   "metadata": {},
   "outputs": [
    {
     "data": {
      "text/html": [
       "<div>\n",
       "<style scoped>\n",
       "    .dataframe tbody tr th:only-of-type {\n",
       "        vertical-align: middle;\n",
       "    }\n",
       "\n",
       "    .dataframe tbody tr th {\n",
       "        vertical-align: top;\n",
       "    }\n",
       "\n",
       "    .dataframe thead th {\n",
       "        text-align: right;\n",
       "    }\n",
       "</style>\n",
       "<table border=\"1\" class=\"dataframe\">\n",
       "  <thead>\n",
       "    <tr style=\"text-align: right;\">\n",
       "      <th></th>\n",
       "      <th>name</th>\n",
       "      <th>year</th>\n",
       "      <th>attacker_1</th>\n",
       "      <th>attacker_2</th>\n",
       "      <th>attacker_3</th>\n",
       "      <th>attacker_4</th>\n",
       "      <th>defender_1</th>\n",
       "      <th>defender_2</th>\n",
       "      <th>attacker_outcome</th>\n",
       "      <th>attacker</th>\n",
       "      <th>defender</th>\n",
       "    </tr>\n",
       "  </thead>\n",
       "  <tbody>\n",
       "    <tr>\n",
       "      <th>0</th>\n",
       "      <td>Battle of the Golden Tooth</td>\n",
       "      <td>298</td>\n",
       "      <td>Lannister</td>\n",
       "      <td>instead</td>\n",
       "      <td>instead</td>\n",
       "      <td>instead</td>\n",
       "      <td>Tully</td>\n",
       "      <td>instead</td>\n",
       "      <td>win</td>\n",
       "      <td>Lannister,instead,instead,instead</td>\n",
       "      <td>Tully,instead</td>\n",
       "    </tr>\n",
       "    <tr>\n",
       "      <th>1</th>\n",
       "      <td>Battle at the Mummer's Ford</td>\n",
       "      <td>298</td>\n",
       "      <td>Lannister</td>\n",
       "      <td>instead</td>\n",
       "      <td>instead</td>\n",
       "      <td>instead</td>\n",
       "      <td>Baratheon</td>\n",
       "      <td>instead</td>\n",
       "      <td>win</td>\n",
       "      <td>Lannister,instead,instead,instead</td>\n",
       "      <td>Baratheon,instead</td>\n",
       "    </tr>\n",
       "    <tr>\n",
       "      <th>2</th>\n",
       "      <td>Battle of Riverrun</td>\n",
       "      <td>298</td>\n",
       "      <td>Lannister</td>\n",
       "      <td>instead</td>\n",
       "      <td>instead</td>\n",
       "      <td>instead</td>\n",
       "      <td>Tully</td>\n",
       "      <td>instead</td>\n",
       "      <td>win</td>\n",
       "      <td>Lannister,instead,instead,instead</td>\n",
       "      <td>Tully,instead</td>\n",
       "    </tr>\n",
       "    <tr>\n",
       "      <th>3</th>\n",
       "      <td>Battle of the Green Fork</td>\n",
       "      <td>298</td>\n",
       "      <td>Stark</td>\n",
       "      <td>instead</td>\n",
       "      <td>instead</td>\n",
       "      <td>instead</td>\n",
       "      <td>Lannister</td>\n",
       "      <td>instead</td>\n",
       "      <td>loss</td>\n",
       "      <td>Stark,instead,instead,instead</td>\n",
       "      <td>Lannister,instead</td>\n",
       "    </tr>\n",
       "    <tr>\n",
       "      <th>4</th>\n",
       "      <td>Battle of the Whispering Wood</td>\n",
       "      <td>298</td>\n",
       "      <td>Stark</td>\n",
       "      <td>Tully</td>\n",
       "      <td>instead</td>\n",
       "      <td>instead</td>\n",
       "      <td>Lannister</td>\n",
       "      <td>instead</td>\n",
       "      <td>win</td>\n",
       "      <td>Stark,Tully,instead,instead</td>\n",
       "      <td>Lannister,instead</td>\n",
       "    </tr>\n",
       "  </tbody>\n",
       "</table>\n",
       "</div>"
      ],
      "text/plain": [
       "                            name  year attacker_1 attacker_2 attacker_3  \\\n",
       "0     Battle of the Golden Tooth   298  Lannister    instead    instead   \n",
       "1    Battle at the Mummer's Ford   298  Lannister    instead    instead   \n",
       "2             Battle of Riverrun   298  Lannister    instead    instead   \n",
       "3       Battle of the Green Fork   298      Stark    instead    instead   \n",
       "4  Battle of the Whispering Wood   298      Stark      Tully    instead   \n",
       "\n",
       "  attacker_4 defender_1 defender_2 attacker_outcome  \\\n",
       "0    instead      Tully    instead              win   \n",
       "1    instead  Baratheon    instead              win   \n",
       "2    instead      Tully    instead              win   \n",
       "3    instead  Lannister    instead             loss   \n",
       "4    instead  Lannister    instead              win   \n",
       "\n",
       "                            attacker           defender  \n",
       "0  Lannister,instead,instead,instead      Tully,instead  \n",
       "1  Lannister,instead,instead,instead  Baratheon,instead  \n",
       "2  Lannister,instead,instead,instead      Tully,instead  \n",
       "3      Stark,instead,instead,instead  Lannister,instead  \n",
       "4        Stark,Tully,instead,instead  Lannister,instead  "
      ]
     },
     "execution_count": 10,
     "metadata": {},
     "output_type": "execute_result"
    }
   ],
   "source": [
    "df.head()"
   ]
  },
  {
   "cell_type": "code",
   "execution_count": 11,
   "metadata": {},
   "outputs": [],
   "source": [
    "#现将attacker拆分成多行, 建立表格名字为df_attack\n",
    "step1 = df['attacker'].str.split(',', expand = True).stack()\n",
    "step2 = step1.reset_index(level = 1, drop = True).rename('attackers')\n",
    "df_attack = df.join(step2).copy()"
   ]
  },
  {
   "cell_type": "code",
   "execution_count": 12,
   "metadata": {},
   "outputs": [],
   "source": [
    "#筛选数据\n",
    "df_attack = df_attack.query('attackers != \"instead\"')"
   ]
  },
  {
   "cell_type": "code",
   "execution_count": 13,
   "metadata": {},
   "outputs": [],
   "source": [
    "#现将defenders拆分成多行, 建立表格名字为df_defend\n",
    "step3 = df['defender'].str.split(',', expand = True).stack()\n",
    "step4 = step3.reset_index(level = 1, drop = True).rename('defenders')\n",
    "df_defend = df.join(step4).copy()"
   ]
  },
  {
   "cell_type": "code",
   "execution_count": 14,
   "metadata": {},
   "outputs": [],
   "source": [
    "#筛选数据\n",
    "df_defend = df_defend.query('defenders != \"instead\"')"
   ]
  },
  {
   "cell_type": "code",
   "execution_count": 15,
   "metadata": {},
   "outputs": [
    {
     "name": "stdout",
     "output_type": "stream",
     "text": [
      "<class 'pandas.core.frame.DataFrame'>\n",
      "Int64Index: 53 entries, 0 to 37\n",
      "Data columns (total 12 columns):\n",
      "name                53 non-null object\n",
      "year                53 non-null int64\n",
      "attacker_1          53 non-null object\n",
      "attacker_2          53 non-null object\n",
      "attacker_3          53 non-null object\n",
      "attacker_4          53 non-null object\n",
      "defender_1          53 non-null object\n",
      "defender_2          53 non-null object\n",
      "attacker_outcome    49 non-null object\n",
      "attacker            53 non-null object\n",
      "defender            53 non-null object\n",
      "attackers           53 non-null object\n",
      "dtypes: int64(1), object(11)\n",
      "memory usage: 5.4+ KB\n"
     ]
    }
   ],
   "source": [
    "df_attack.info()"
   ]
  },
  {
   "cell_type": "markdown",
   "metadata": {},
   "source": [
    "> 这里出现了一个NAN，由于我是权利的游戏忠实粉丝，同时通过查询资料，因此我填充了这个缺失值，缺失的战争结果为win"
   ]
  },
  {
   "cell_type": "code",
   "execution_count": 16,
   "metadata": {},
   "outputs": [],
   "source": [
    "#将缺失值填充为win\n",
    "df_attack.fillna(\"win\", inplace=True)"
   ]
  },
  {
   "cell_type": "code",
   "execution_count": 17,
   "metadata": {},
   "outputs": [
    {
     "name": "stdout",
     "output_type": "stream",
     "text": [
      "<class 'pandas.core.frame.DataFrame'>\n",
      "Int64Index: 39 entries, 0 to 37\n",
      "Data columns (total 12 columns):\n",
      "name                39 non-null object\n",
      "year                39 non-null int64\n",
      "attacker_1          39 non-null object\n",
      "attacker_2          39 non-null object\n",
      "attacker_3          39 non-null object\n",
      "attacker_4          39 non-null object\n",
      "defender_1          39 non-null object\n",
      "defender_2          39 non-null object\n",
      "attacker_outcome    37 non-null object\n",
      "attacker            39 non-null object\n",
      "defender            39 non-null object\n",
      "defenders           39 non-null object\n",
      "dtypes: int64(1), object(11)\n",
      "memory usage: 4.0+ KB\n"
     ]
    }
   ],
   "source": [
    "df_defend.info()"
   ]
  },
  {
   "cell_type": "markdown",
   "metadata": {},
   "source": [
    "### 重复检查"
   ]
  },
  {
   "cell_type": "code",
   "execution_count": 18,
   "metadata": {},
   "outputs": [
    {
     "data": {
      "text/plain": [
       "0"
      ]
     },
     "execution_count": 18,
     "metadata": {},
     "output_type": "execute_result"
    }
   ],
   "source": [
    "df_attack.duplicated().sum()"
   ]
  },
  {
   "cell_type": "code",
   "execution_count": 19,
   "metadata": {},
   "outputs": [
    {
     "data": {
      "text/plain": [
       "0"
      ]
     },
     "execution_count": 19,
     "metadata": {},
     "output_type": "execute_result"
    }
   ],
   "source": [
    "df_defend.duplicated().sum()"
   ]
  },
  {
   "cell_type": "markdown",
   "metadata": {},
   "source": [
    "## 数据探索分析"
   ]
  },
  {
   "cell_type": "markdown",
   "metadata": {},
   "source": [
    "### Q1 家族进攻参与次数`"
   ]
  },
  {
   "cell_type": "markdown",
   "metadata": {},
   "source": [
    "> 这一步我的目的是想找出参战最积极的国家，运用的是df_attack表格，因为他包含了所有的参战国。"
   ]
  },
  {
   "cell_type": "code",
   "execution_count": 20,
   "metadata": {},
   "outputs": [
    {
     "data": {
      "text/plain": [
       "Lannister                      9\n",
       "Stark                          8\n",
       "Greyjoy                        8\n",
       "Baratheon                      6\n",
       "Bolton                         3\n",
       "Tully                          3\n",
       "Frey                           3\n",
       "Mormont                        2\n",
       "Glover                         2\n",
       "Karstark                       2\n",
       "Darry                          1\n",
       "Giants                         1\n",
       "Bracken                        1\n",
       "Thenns                         1\n",
       "Brotherhood without Banners    1\n",
       "Free folk                      1\n",
       "Brave Companions               1\n",
       "Name: attackers, dtype: int64"
      ]
     },
     "execution_count": 20,
     "metadata": {},
     "output_type": "execute_result"
    }
   ],
   "source": [
    "attack = df_attack['attackers'].value_counts()\n",
    "attack"
   ]
  },
  {
   "cell_type": "code",
   "execution_count": 21,
   "metadata": {},
   "outputs": [
    {
     "data": {
      "image/png": "[encoded data removed]",
      "text/plain": [
       "<Figure size 576x576 with 1 Axes>"
      ]
     },
     "metadata": {},
     "output_type": "display_data"
    }
   ],
   "source": [
    "#设置中文\n",
    "plt.rc('font',family='STXihei',size=15)\n",
    "plt.subplots(figsize=(8,8))\n",
    "#作图\n",
    "locations = list(attack.index)\n",
    "heights = list(attack)\n",
    "plt.barh(locations, heights)\n",
    "plt.title('国家进攻参与次数`')\n",
    "plt.xlabel('次数')\n",
    "plt.ylabel('国家');"
   ]
  },
  {
   "cell_type": "markdown",
   "metadata": {},
   "source": [
    "> 小结：此处的结果比较明显，是由兰尼斯特家族为主导，北境之主史塔克家族为第二出战率，同时葛雷乔伊也有相当的出战率。"
   ]
  },
  {
   "cell_type": "markdown",
   "metadata": {},
   "source": [
    "### Q2 国家防守参与次数`"
   ]
  },
  {
   "cell_type": "markdown",
   "metadata": {},
   "source": [
    "> 这一步我的目的是想找出防守比较多的国家，我的猜想：是否进攻较多，防守的次数也会随之增长，运用的是df_defend表格。"
   ]
  },
  {
   "cell_type": "code",
   "execution_count": 22,
   "metadata": {},
   "outputs": [
    {
     "data": {
      "text/plain": [
       "Lannister           9\n",
       "Stark               8\n",
       "Baratheon           5\n",
       "Tully               4\n",
       "Greyjoy             3\n",
       "Tyrell              2\n",
       "Brave Companions    2\n",
       "Frey                1\n",
       "Blackwood           1\n",
       "Mallister           1\n",
       "Night's Watch       1\n",
       "Darry               1\n",
       "Bolton              1\n",
       "Name: defenders, dtype: int64"
      ]
     },
     "execution_count": 22,
     "metadata": {},
     "output_type": "execute_result"
    }
   ],
   "source": [
    "defend = df_defend['defenders'].value_counts()\n",
    "defend"
   ]
  },
  {
   "cell_type": "code",
   "execution_count": 23,
   "metadata": {},
   "outputs": [
    {
     "data": {
      "image/png": "[encoded data removed]",
      "text/plain": [
       "<Figure size 576x576 with 1 Axes>"
      ]
     },
     "metadata": {},
     "output_type": "display_data"
    }
   ],
   "source": [
    "#设置中文\n",
    "plt.rc('font',family='STXihei',size=15)\n",
    "plt.subplots(figsize=(8,8))\n",
    "#作图\n",
    "locations = list(defend.index)\n",
    "heights = list(defend)\n",
    "plt.barh(locations, heights)\n",
    "plt.title('国家防守参与次数`')\n",
    "plt.xlabel('次数')\n",
    "plt.ylabel('国家');"
   ]
  },
  {
   "cell_type": "markdown",
   "metadata": {},
   "source": [
    "> 小结：此处的结果也在一定程度上印证了我的猜想，史塔克和兰尼斯特再次占据了前2的名词，同时进攻排名第四的拜拉席恩也在防守次数上排名第三，因此我可以判断这三个国家处于风暴的中心。"
   ]
  },
  {
   "cell_type": "markdown",
   "metadata": {},
   "source": [
    "### Q3 国家战争获胜次数"
   ]
  },
  {
   "cell_type": "markdown",
   "metadata": {},
   "source": [
    ">经过前面两次的讨论，我们得出了出战场次，不论是进攻还是防守，排名前列的为史塔克，兰尼斯特，拜拉席恩三个家族，接下来便是讨论总体的胜利数，我们需要猜测，是否经历过多次战斗，其胜利的场次也会居于前列，是否出战越多，其胜利的次数也会越多，五王之战又究竟是谁占据了先机呢，看一下国家胜利的次数。"
   ]
  },
  {
   "cell_type": "code",
   "execution_count": 24,
   "metadata": {},
   "outputs": [
    {
     "data": {
      "text/plain": [
       "attackers\n",
       "Baratheon                      5\n",
       "Bolton                         3\n",
       "Bracken                        1\n",
       "Brave Companions               1\n",
       "Brotherhood without Banners    1\n",
       "Darry                          1\n",
       "Frey                           3\n",
       "Glover                         2\n",
       "Greyjoy                        8\n",
       "Karstark                       2\n",
       "Lannister                      8\n",
       "Mormont                        2\n",
       "Stark                          6\n",
       "Tully                          3\n",
       "Name: attacker_outcome, dtype: int64"
      ]
     },
     "execution_count": 24,
     "metadata": {},
     "output_type": "execute_result"
    }
   ],
   "source": [
    "df_attack_win = df_attack.query('attacker_outcome == \"win\"')\n",
    "attack_win_counts = df_attack_win.groupby('attackers').count()['attacker_outcome']\n",
    "attack_win_counts"
   ]
  },
  {
   "cell_type": "code",
   "execution_count": 25,
   "metadata": {},
   "outputs": [
    {
     "data": {
      "text/plain": [
       "defenders\n",
       "Baratheon           4\n",
       "Blackwood           1\n",
       "Brave Companions    2\n",
       "Darry               1\n",
       "Greyjoy             3\n",
       "Lannister           6\n",
       "Mallister           1\n",
       "Stark               8\n",
       "Tully               3\n",
       "Tyrell              2\n",
       "Name: attacker_outcome, dtype: int64"
      ]
     },
     "execution_count": 25,
     "metadata": {},
     "output_type": "execute_result"
    }
   ],
   "source": [
    "df_defend_win = df_defend.query('attacker_outcome == \"win\"')\n",
    "defend_win_counts = df_defend_win.groupby('defenders').count()['attacker_outcome']\n",
    "defend_win_counts"
   ]
  },
  {
   "cell_type": "code",
   "execution_count": 26,
   "metadata": {},
   "outputs": [],
   "source": [
    "total = attack_win_counts.add(defend_win_counts, fill_value=0)"
   ]
  },
  {
   "cell_type": "code",
   "execution_count": 27,
   "metadata": {},
   "outputs": [
    {
     "data": {
      "text/plain": [
       "Baratheon                       9.0\n",
       "Blackwood                       1.0\n",
       "Bolton                          3.0\n",
       "Bracken                         1.0\n",
       "Brave Companions                3.0\n",
       "Brotherhood without Banners     1.0\n",
       "Darry                           2.0\n",
       "Frey                            3.0\n",
       "Glover                          2.0\n",
       "Greyjoy                        11.0\n",
       "Karstark                        2.0\n",
       "Lannister                      14.0\n",
       "Mallister                       1.0\n",
       "Mormont                         2.0\n",
       "Stark                          14.0\n",
       "Tully                           6.0\n",
       "Tyrell                          2.0\n",
       "Name: attacker_outcome, dtype: float64"
      ]
     },
     "execution_count": 27,
     "metadata": {},
     "output_type": "execute_result"
    }
   ],
   "source": [
    "total"
   ]
  },
  {
   "cell_type": "code",
   "execution_count": 28,
   "metadata": {},
   "outputs": [
    {
     "data": {
      "image/png": "[encoded data removed]",
      "text/plain": [
       "<Figure size 1800x864 with 1 Axes>"
      ]
     },
     "metadata": {},
     "output_type": "display_data"
    }
   ],
   "source": [
    "locations = np.arange(len(total))\n",
    "heights = list(total)\n",
    "labels = list(total.index)\n",
    "# 设置大小，字体\n",
    "plt.rc('font',family='STXihei',size=12)\n",
    "plt.subplots(figsize=(25, 12))\n",
    "\n",
    "plt.bar(locations, heights, tick_label=labels)\n",
    "plt.xticks(rotation=40)\n",
    "plt.title('国家战争胜利次数')\n",
    "plt.ylabel('次数');"
   ]
  },
  {
   "cell_type": "markdown",
   "metadata": {},
   "source": [
    ">根据这个柱形图，可以清楚的看到，兰尼斯特和史塔克家族的战胜率，以及拜拉席恩家族的胜场次都是居于前列。"
   ]
  },
  {
   "cell_type": "markdown",
   "metadata": {},
   "source": [
    "## 得出结论"
   ]
  },
  {
   "cell_type": "markdown",
   "metadata": {},
   "source": [
    "**问题**：国家进攻和防守的次数，最后的胜利场次谁最多。\n"
   ]
  },
  {
   "cell_type": "markdown",
   "metadata": {},
   "source": [
    "**结论**：通过可视化分析，进攻次数最多的兰尼斯特，史塔克，葛雷乔伊，分别为9次，8次，8次。防守次数最多的分别是兰尼斯特，史塔克，拜拉席恩。分别是9次，8次，5次。然后通过了解分别的胜利场次，最多的是兰尼斯特和史塔克家族，分别是14次，第三的是葛雷乔伊的11次。"
   ]
  },
  {
   "cell_type": "markdown",
   "metadata": {},
   "source": [
    "## 反思"
   ]
  },
  {
   "cell_type": "markdown",
   "metadata": {},
   "source": [
    "\n",
    "1. 数据集确实缺失了很多的数据，但是相对于我的问题，不能确定四个进攻方或者四个防守方都是完整无误的，仅有的数据，只能做参考，我不能确定NAN值是真的不存还还是有缺失值，的确需要进一步了解。\n",
    "2. 在对数据进行处理的时候，我针对我的问题，对于仅有的一场缺失战争结果查找了资料，确定是win，因此填充了数据，对于结果没有影响。\n",
    "3. 胜利场次对于其他的数据要求并不高，如果我要研究胜利的因素，进攻力量和防守力量缺失值太多，又或者是人民的因素，这些会对分析有一定的参考价值。\n",
    "4. 此次分析只是验证了胜利场次，并没有从A推出到B的这种因果关系，这一些探讨还需要更多的理论依据，我不能得出获胜场次多，就一定会取得最后的胜利！\n",
    "\n"
   ]
  },
  {
   "cell_type": "markdown",
   "metadata": {},
   "source": [
    "恭喜你完成了此项目！这只是数据分析过程的一个样本：从生成问题、整理数据、探索数据到得出结论。在数据分析(进阶)纳米学位中，你将会学到更多高级的数据分析方法和技术，如果你感兴趣的话，我们鼓励你继续学习后续的课程，掌握更多的数据分析的高级技能！"
   ]
  },
  {
   "cell_type": "markdown",
   "metadata": {},
   "source": [
    "> 若想与他人分享我们的分析结果，除了向他们提供 jupyter Notebook (.ipynb) 文件的副本外，我们还可以将 Notebook 输出导出为一种甚至那些未安装 Python 的人都能打开的形式。从左上方的“文件”菜单，前往“下载为”子菜单。然后你可以选择一个可以更普遍查看的格式，例如 HTML (.html) 。你可能需要额外软件包或软件来执行这些导出。"
   ]
  },
  {
   "cell_type": "code",
   "execution_count": null,
   "metadata": {},
   "outputs": [],
   "source": []
  }
 ],
 "metadata": {
  "kernelspec": {
   "display_name": "Python [default]",
   "language": "python",
   "name": "python3"
  },
  "language_info": {
   "codemirror_mode": {
    "name": "ipython",
    "version": 3
   },
   "file_extension": ".py",
   "mimetype": "text/x-python",
   "name": "python",
   "nbconvert_exporter": "python",
   "pygments_lexer": "ipython3",
   "version": "3.6.5"
  }
 },
 "nbformat": 4,
 "nbformat_minor": 2
}
